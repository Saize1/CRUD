{
  "nbformat": 4,
  "nbformat_minor": 0,
  "metadata": {
    "colab": {
      "provenance": [],
      "authorship_tag": "ABX9TyNo0R0YvK9bVdN8HCOUDIzF",
      "include_colab_link": true
    },
    "kernelspec": {
      "name": "python3",
      "display_name": "Python 3"
    },
    "language_info": {
      "name": "python"
    }
  },
  "cells": [
    {
      "cell_type": "markdown",
      "metadata": {
        "id": "view-in-github",
        "colab_type": "text"
      },
      "source": [
        "<a href=\"https://colab.research.google.com/github/Saize1/CRUD/blob/master/MohammadSaizeAli_231030037.ipynb\" target=\"_parent\"><img src=\"https://colab.research.google.com/assets/colab-badge.svg\" alt=\"Open In Colab\"/></a>"
      ]
    },
    {
      "cell_type": "markdown",
      "source": [
        "#1 Creating a row vector and a column vector using user input"
      ],
      "metadata": {
        "id": "dJ7DdRqBYUoq"
      }
    },
    {
      "cell_type": "code",
      "source": [
        "import numpy as np\n",
        "#Creating a row vector using user input\n",
        "row_input = input(\"Enter space-separated values for the row vector: \") #Prompts the user to enter values seperated by spaces and stores\n",
        "row_values = [float(x) for x in row_input.split()] #typecasting string values from user to float data type and splitting it to store in\n",
        "row_vect = np.array(row_values) #creates an array of values\n",
        "print(\"Row vector:\")\n",
        "print(row_vect) #to print row vector\n",
        "# Creating a column vector using user input\n",
        "col_input = input(\"Enter space-separated values for the column vector: \") #Prompts the user to enter values seperated by spaces and stor\n",
        "col_values = [float(x) for x in col_input.split()] #typecasting string values from user to float data type and splitting it to store in\n",
        "col_vect = np.array(col_values).reshape(-1, 1) #reshape(-1,1) is used to change the shape of the array and thereby indicating that the a\n",
        "print(\"Column vector:\")\n",
        "print(col_vect) #to print column vector\n",
        "Enter space-separated values for the row vector: 1 2 3 4 5\n",
        "Row vector:\n",
        "[1. 2. 3. 4. 5.]\n",
        "Enter space-separated values for the column vector: 1 2 3 4 5\n",
        "Column vector:\n",
        "[[1.]\n",
        " [2.]\n",
        " [3.]\n",
        " [4.]\n",
        " [5.]]\n",
        "#Creating a row vector and a column vector manually\n",
        "import numpy as np\n",
        "# Creating a row vector manually\n",
        "row_vect = np.array([1, 2, 3, 4, 5]) #The elements of the array are predefined\n",
        "print(\"Row vector:\")\n",
        "print(row_vect)\n",
        "# Creating a column vector manually\n",
        "col_vect = np.array([[10], [20], [30], [40], [50]])\n",
        "print(\"Column vector:\")\n",
        "print(col_vect)\n",
        "Row vector:\n",
        "[1 2 3 4 5]\n",
        "Column vector:\n",
        "[[10]\n",
        " [20]\n",
        " [30]\n",
        " [40]\n",
        " [50]]"
      ],
      "metadata": {
        "id": "B-CQNLEVW_VH"
      },
      "execution_count": null,
      "outputs": []
    },
    {
      "cell_type": "markdown",
      "source": [],
      "metadata": {
        "id": "y0I-5cFAXFo5"
      }
    },
    {
      "cell_type": "markdown",
      "source": [
        "#2 Creating a matrix (5 × 5) using the input method as well as manually and saving it as “a”.\n"
      ],
      "metadata": {
        "id": "GGw-yK_EX6Wx"
      }
    },
    {
      "cell_type": "code",
      "source": [
        "import numpy as np\n",
        "# Creating a 5x5 matrix using user input\n",
        "input_matrix = []\n",
        "print(\"Enter values for the 5x5 matrix:\")\n",
        "for _ in range(5):\n",
        "row_input = input(f\"Enter 5 space-separated values for row {_ + 1}: \")\n",
        "row_values = [float(x) for x in row_input.split()]\n",
        "input_matrix.append(row_values) #append() is used to add values at the end\n",
        "a = np.array(input_matrix)\n",
        "print(\"Matrix 'a' created using user input:\")\n",
        "print(a)\n",
        "Enter values for the 5x5 matrix:\n",
        "Enter 5 space-separated values for row 1: 1 1 1 2 2\n",
        "Enter 5 space-separated values for row 2: 2 3 3 3 4\n",
        "Enter 5 space-separated values for row 3: 4 4 5 5 5\n",
        "Enter 5 space-separated values for row 4: 6 6 6 7 7\n",
        "Enter 5 space-separated values for row 5: 7 8 8 8 9\n",
        "Matrix 'a' created using user input:\n",
        "[[1. 1. 1. 2. 2.]\n",
        "  [2. 3. 3. 3. 4.]\n",
        " [4. 4. 5. 5. 5.]\n",
        " [6. 6. 6. 7. 7.]\n",
        " [7. 8. 8. 8. 9.]]\n",
        "# Creating a 5x5 matrix manually\n",
        "manual_matrix = np.array([\n",
        "[1, 2, 3, 4, 5],\n",
        "[5, 4, 3, 2, 1],\n",
        "[6, 7, 8, 9, 10],\n",
        "[10, 9, 8, 7, 6],\n",
        "[11, 12, 13, 14, 15]\n",
        "])\n",
        "a = manual_matrix\n",
        "print(\"Matrix 'a' created manually:\")\n",
        "print(a)\n",
        "Matrix 'a' created manually:\n",
        "[[ 1 2 3 4 5]\n",
        " [ 5 4 3 2 1]\n",
        " [ 6 7 8 9 10]\n",
        " [10 9 8 7 6]\n",
        " [11 12 13 14 15]]"
      ],
      "metadata": {
        "id": "qeC3ddkDYPhe"
      },
      "execution_count": null,
      "outputs": []
    },
    {
      "cell_type": "markdown",
      "source": [
        "#3 Getting the 3rd row"
      ],
      "metadata": {
        "id": "hqtECjr5ZCyk"
      }
    },
    {
      "cell_type": "code",
      "source": [
        "third_row = a[2, :] #[2,:] the first element in the square brackets indicate row number which starts with 0 and the second the column nu\n",
        "print(\"3rd row of the matrix:\")\n",
        "print(third_row)\n",
        "3rd row of the matrix:\n",
        "[ 6 7 8 9 10]\n"
      ],
      "metadata": {
        "id": "8UlfVS0nZEgI"
      },
      "execution_count": null,
      "outputs": []
    },
    {
      "cell_type": "markdown",
      "source": [
        "#4 Getting the 4th column"
      ],
      "metadata": {
        "id": "5KpPRFGdaO6G"
      }
    },
    {
      "cell_type": "code",
      "source": [
        "fourth_col = a[:,3]\n",
        "print(\"4th column of the matrix:\")\n",
        "print(fourth_col)\n",
        "4th column of the matrix:\n",
        "[ 4 2 9 7 14]\n"
      ],
      "metadata": {
        "id": "16IWCW-OaQpe"
      },
      "execution_count": null,
      "outputs": []
    },
    {
      "cell_type": "markdown",
      "source": [
        "#5 Sorting the matrix row-wise and column-wise"
      ],
      "metadata": {
        "id": "3CKF2YYNaVUb"
      }
    },
    {
      "cell_type": "code",
      "source": [
        "import numpy as np\n",
        "#Sorting the matrix row-wise\n",
        "sorted_rows = np.sort(a, axis=1) #this function is used to sort the elements of matrix and axis 1 indicates row\n",
        "print(\"Matrix with sorted rows:\")\n",
        "print(sorted_rows)\n",
        "# Sorting the matrix column-wise\n",
        "sorted_cols = np.sort(a, axis=0) #axis 0 indicates column here\n",
        "print(\"Matrix with sorted columns:\")\n",
        "print(sorted_cols)\n",
        "Matrix with sorted rows:\n",
        "[[ 1 2 3 4 5]\n",
        " [ 1 2 3 4 5]\n",
        " [ 6 7 8 9 10]\n",
        " [ 6 7 8 9 10]\n",
        " [11 12 13 14 15]]\n",
        "Matrix with sorted columns:\n",
        "[[ 1 2 3 2 1]\n",
        " [ 5 4 3 4 5]\n",
        " [ 6 7 8 7 6]\n",
        " [10 9 8 9 10]\n",
        " [11 12 13 14 15]]"
      ],
      "metadata": {
        "id": "GBsuprNjaYb_"
      },
      "execution_count": null,
      "outputs": []
    },
    {
      "cell_type": "markdown",
      "source": [
        "#6 Applying for loop in matrix, if element is greater than 2, multiplying the element by 10 saving it as “b”"
      ],
      "metadata": {
        "id": "BvLwsnFfaiE8"
      }
    },
    {
      "cell_type": "code",
      "source": [
        "b = np.copy(a) # Taking a copy of the matrix\n",
        "for i in range(b.shape[0]):\n",
        "for j in range(b.shape[1]): #nested for loop is used\n",
        "if b[i, j] > 2:\n",
        "b[i, j] *= 10\n",
        "print(\"Matrix 'b' after applying for loop:\")\n",
        "print(b)\n",
        "Matrix 'b' after applying for loop:\n",
        "[[ 1 2 30 40 50]\n",
        " [ 50 40 30 2 1]\n",
        " [ 60 70 80 90 100]\n",
        " [100 90 80 70 60]\n",
        " [110 120 130 140 150]]\n"
      ],
      "metadata": {
        "id": "ZzcNifjLal0T"
      },
      "execution_count": null,
      "outputs": []
    },
    {
      "cell_type": "markdown",
      "source": [
        "#7 Adding matrices 'a' and 'b'"
      ],
      "metadata": {
        "id": "3GbOneIDawdO"
      }
    },
    {
      "cell_type": "code",
      "source": [
        "sum_matrix = a + b\n",
        "print(\"Sum of matrices 'a' and 'b':\")\n",
        "print(sum_matrix)\n",
        "Sum of matrices 'a' and 'b':\n",
        "[[ 2 4 33 44 55]\n",
        " [ 55 44 33 4 2]\n",
        " [ 66 77 88 99 110]\n",
        " [110 99 88 77 66]\n",
        " [121 132 143 154 165]]"
      ],
      "metadata": {
        "id": "Xs5S62eHaxTm"
      },
      "execution_count": null,
      "outputs": []
    },
    {
      "cell_type": "markdown",
      "source": [
        "#8 Subtracting matrix 'b' from 'a'\n"
      ],
      "metadata": {
        "id": "nD3EYubza62y"
      }
    },
    {
      "cell_type": "code",
      "source": [
        "diff_matrix = a - b\n",
        "print(\"Subtraction of matrix 'b' from 'a':\")\n",
        "print(diff_matrix)\n",
        "Subtraction of matrix 'b' from 'a':\n",
        "[[ 0 0 -27 -36 -45]\n",
        " [ -45 -36 -27 0 0]\n",
        " [ -54 -63 -72 -81 -90]\n",
        " [ -90 -81 -72 -63 -54]\n",
        " [ -99 -108 -117 -126 -135]]"
      ],
      "metadata": {
        "id": "leCmXdQGbGDm"
      },
      "execution_count": null,
      "outputs": []
    },
    {
      "cell_type": "markdown",
      "source": [
        "#9 Multiplying matrix a by b element wise and matrix multiplication"
      ],
      "metadata": {
        "id": "P-LFUPF4bLCW"
      }
    },
    {
      "cell_type": "code",
      "source": [
        "#Element-wise multiplication\n",
        "elementwise_product = a * b\n",
        "print(\"Element-wise multiplication of matrices 'a' and 'b':\")\n",
        "print(elementwise_product)\n",
        "# Matrix multiplication (Dot product)\n",
        "matrix_product = np.dot(a, b)\n",
        "print(\"Matrix multiplication of matrices 'a' and 'b':\")\n",
        "print(matrix_product)\n",
        "Element-wise multiplication of matrices 'a' and 'b':\n",
        "[[ 1 4 90 160 250]\n",
        " [ 250 160 90 4 1]\n",
        " [ 360 490 640 810 1000]\n",
        " [1000 810 640 490 360]\n",
        " [1210 1440 1690 1960 2250]]\n",
        "Matrix multiplication of matrices 'a' and 'b':\n",
        "[[1231 1252 1300 1294 1342]\n",
        " [ 695 680 800 758 824]\n",
        " [2836 2862 3050 3004 3147]\n",
        " [2300 2290 2550 2468 2629]\n",
        " [4441 4472 4800 4714 4952]]"
      ],
      "metadata": {
        "id": "MDgmGW9IbOX8"
      },
      "execution_count": null,
      "outputs": []
    },
    {
      "cell_type": "markdown",
      "source": [
        "#10 Dividing each element of matrix a and b by 18"
      ],
      "metadata": {
        "id": "iV-RdQhAbTP7"
      }
    },
    {
      "cell_type": "code",
      "source": [
        "a_divided = a / 18\n",
        "b_divided = b / 18\n",
        "print(\"Matrix 'a' after element-wise division:\")\n",
        "print(a_divided)\n",
        "print(\"Matrix 'b' after element-wise division:\")\n",
        "print(b_divided)\n",
        "Matrix 'a' after element-wise division:\n",
        "[[0.05555556 0.11111111 0.16666667 0.22222222 0.27777778]\n",
        " [0.27777778 0.22222222 0.16666667 0.11111111 0.05555556]\n",
        "  [0.33333333 0.38888889 0.44444444 0.5 0.55555556]\n",
        " [0.55555556 0.5 0.44444444 0.38888889 0.33333333]\n",
        " [0.61111111 0.66666667 0.72222222 0.77777778 0.83333333]]\n",
        "Matrix 'b' after element-wise division:\n",
        "[[0.05555556 0.11111111 1.66666667 2.22222222 2.77777778]\n",
        " [2.77777778 2.22222222 1.66666667 0.11111111 0.05555556]\n",
        " [3.33333333 3.88888889 4.44444444 5. 5.55555556]\n",
        " [5.55555556 5. 4.44444444 3.88888889 3.33333333]\n",
        " [6.11111111 6.66666667 7.22222222 7.77777778 8.33333333]]\n"
      ],
      "metadata": {
        "id": "EOdVEoJ1bicB"
      },
      "execution_count": null,
      "outputs": []
    },
    {
      "cell_type": "markdown",
      "source": [
        "#11 Finding the inverse, rank, condition number, singular value decomposition and the norm of matrices a and b\n"
      ],
      "metadata": {
        "id": "tGRADP_kcF2g"
      }
    },
    {
      "cell_type": "code",
      "source": [
        "#Inverses of matrices\n",
        "a_det = np.linalg.det(a)\n",
        "b_det = np.linalg.det(b)\n",
        "print(\"Determinant of a is:\")\n",
        "print(a_det)\n",
        "print(\"Inverse of matrix 'a' does not exist since determinant of a is 0\")\n",
        "print(\"Determinant of b is:\")\n",
        "print(b_det)\n",
        "print(\"Inverse of matrix 'b' does not exist since determinant of b is 0\")\n",
        "# Rank of matrices\n",
        "rank_a = np.linalg.matrix_rank(a)\n",
        "rank_b = np.linalg.matrix_rank(b)\n",
        "print(\"Rank of matrix 'a':\", rank_a)\n",
        "print(\"Rank of matrix 'b':\", rank_b)\n",
        "# Condition number of matrices\n",
        "cond_a = np.linalg.cond(a)\n",
        "cond_b = np.linalg.cond(b)\n",
        "print(\"Condition number of matrix 'a':\", cond_a)\n",
        "print(\"Condition number of matrix 'b':\", cond_b)\n",
        "# Singular Value Decomposition (SVD)\n",
        "u_a, s_a, vh_a = np.linalg.svd(a)\n",
        "u_b, s_b, vh_b = np.linalg.svd(b)\n",
        "print(\"Singular Value Decomposition of matrix 'a':\")\n",
        "print(\"U:\")\n",
        "print(u_a)\n",
        "print(\"Singular values:\")\n",
        "print(s_a)\n",
        "print(\"V^H:\")\n",
        "print(vh_a)\n",
        "print(\"Singular Value Decomposition of matrix 'b':\")\n",
        "print(\"U:\")\n",
        "print(u_b)\n",
        "print(\"Singular values:\")\n",
        "print(s_b)\n",
        "print(\"V^H:\")\n",
        "print(vh_b)\n",
        "# Norms of matrices\n",
        "norm_a = np.linalg.norm(a)\n",
        "norm_b = np.linalg.norm(b)\n",
        "print(\"Norm of matrix 'a':\", norm_a)\n",
        "print(\"Norm of matrix 'b':\", norm_b)\n",
        "Determinant of a is:\n",
        "0.0\n",
        "Inverse of matrix 'a' does not exist since determinant of a is 0\n",
        "Determinant of b is:\n",
        "0.0\n",
        "Inverse of matrix 'b' does not exist since determinant of b is 0\n",
        "Rank of matrix 'a': 2\n",
        "Rank of matrix 'b': 4\n",
        "Condition number of matrix 'a': 9.944187924572022e+16\n",
        "Condition number of matrix 'b': 2.1710698299149046e+18\n",
        "Singular Value Decomposition of matrix 'a':\n",
        "U:\n",
        "[[-0.17320063 0.41300185 0.87976009 -0.15325862 -0.0443282 ]\n",
        " [-0.16366307 -0.53360701 0.2298415 -0.15957037 0.7811454 ]\n",
        " [-0.45392038 0.31249755 -0.08616664 0.77322155 0.30167085]\n",
        " [-0.44438283 -0.63411131 0.22330018 0.2326975 -0.54444067]\n",
        " [-0.73464014 0.21199325 -0.34045178 -0.5468358 -0.02063792]]\n",
        "Singular values:\n",
        "[3.97557668e+01 6.66925814e+00 2.24034336e-15 6.76022299e-16\n",
        " 3.99788973e-16]\n",
        "V^H:\n",
        "[[-0.40849188 -0.42745052 -0.44640916 -0.4653678 -0.48432644]\n",
        " [-0.65812946 -0.34247051 -0.02681156 0.28884738 0.60450633]\n",
        " [ 0.42007059 -0.59079297 -0.25980347 0.61170351 -0.18117765]\n",
        " [-0.16985507 0.57996879 -0.70928684 0.35808758 -0.05891446]\n",
        " [-0.44123685 0.12082992 0.47897216 0.44451333 -0.60307856]]\n",
        "Singular Value Decomposition of matrix 'b':\n",
        "U:\n",
        "[[-1.46251152e-01 5.09759111e-01 7.58698419e-01 -3.78329167e-01\n",
        " -4.00615287e-16]\n",
        " [-1.32738939e-01 -5.96948879e-01 6.20376803e-01 4.91085565e-01\n",
        " -3.97819952e-16]\n",
        " [-4.58273859e-01 2.58151879e-01 -1.02505513e-01 3.19424440e-01\n",
        " -7.81539074e-01]\n",
        " [-4.48347747e-01 -5.36525388e-01 -6.84613549e-02 -6.86885588e-01\n",
        " -1.86080732e-01]\n",
        " [-7.41593111e-01 1.71160158e-01 -1.55932659e-01 2.04592831e-01\n",
        " 5.95458342e-01]]\n",
        "Singular values:\n",
        "[3.93859553e+02 7.88592217e+01 1.04515921e+01 7.52597152e+00\n",
        " 1.81412660e-16]\n",
        "V^H:\n",
        "[[-0.40798718 -0.42406919 -0.45017706 -0.46353465 -0.4859918 ]\n",
        " [-0.61722006 -0.41258169 -0.03341084 0.36566149 0.56034912]\n",
        " [ 0.15581165 -0.54693657 0.71029002 -0.40756211 0.07722903]\n",
        " [-0.37761661 0.52855793 0.07744757 -0.64334428 0.39767101]\n",
        " [ 0.53452248 -0.26726124 -0.53452248 -0.26726124 0.53452248]]\n",
        "Norm of matrix 'a': 40.311288741492746\n",
        "Norm of matrix 'b': 401.88306757065544\n"
      ],
      "metadata": {
        "id": "n1b67gC4cHRE"
      },
      "execution_count": null,
      "outputs": []
    },
    {
      "cell_type": "markdown",
      "source": [
        "#12 Finding the norm, inner product and outer product of column vector"
      ],
      "metadata": {
        "id": "u5irjmrUcX1Q"
      }
    },
    {
      "cell_type": "code",
      "source": [
        "#Finding the norm of column vector\n",
        "import numpy as np\n",
        "# Defining column vector as a numpy array\n",
        "col_vect = np.array([[1],\n",
        "[2],\n",
        "[3]])\n",
        "norm = np.linalg.norm(col_vect)\n",
        "print(\"The norm of the column vector is:\", norm)\n",
        "# Finding inner product and outer product\n",
        "col_vect_a=np.array([[1], # intializing two columne vectors a and b\n",
        "[2],\n",
        "[3]])\n",
        "col_vect_b=np.array([[4],\n",
        "[5],\n",
        "[6]])\n",
        "inner_prod=np.dot(col_vect_a.T,col_vect_b)\n",
        "outer_prod=np.dot(col_vect_a,col_vect_b.T)\n",
        "print(\"Inner product of column vector a and b:\", inner_prod)\n",
        "print(\"Outer product of column vector a and b:\", outer_prod)\n",
        "The norm of the column vector is: 3.7416573867739413\n",
        "Inner product of column vector a and b: [[32]]\n",
        "Outer product of column vector a and b: [[ 4 5 6]\n",
        " [ 8 10 12]\n",
        " [12 15 18]]\n"
      ],
      "metadata": {
        "id": "BLBTij27cYtw"
      },
      "execution_count": null,
      "outputs": []
    },
    {
      "cell_type": "markdown",
      "source": [
        "#13 Writing a function called derivative which takes input parameters f(x), a, method (forward,backward and central) and h(step size)"
      ],
      "metadata": {
        "id": "9Q8FCBWVcf-v"
      }
    },
    {
      "cell_type": "code",
      "source": [
        "import numpy as np\n",
        "def derivative(f, a, method='central', h=0.01):\n",
        "if method == 'forward':\n",
        "return (f(a + h) - f(a)) / h\n",
        "elif method == 'backward':\n",
        "return (f(a) - f(a - h)) / h\n",
        "elif method == 'central':\n",
        "return (f(a + h) - f(a - h)) / (2 * h)\n",
        "else:\n",
        "raise ValueError(\"Invalid method. Choose 'forward', 'backward', or 'central'.\")\n",
        "# Test the derivative function\n",
        "x = 0.5\n",
        "# Function: f(x) = exp(x)\n",
        "exp_derivative_forward = derivative(np.exp, x, method='forward') # for x =0.5 forward derivative is carried out in ex()\n",
        "exp_derivative_backward = derivative(np.exp, x, method='backward') #for x =0.5 backward derivative is carried out in ex()\n",
        "exp_derivative_central = derivative(np.exp, x, method='central') #for x =0.5 central derivative is carried out in ex()\n",
        "print(\"Derivative of exp(x) at x =\", x)\n",
        "print(\"Forward difference:\", exp_derivative_forward)\n",
        "print(\"Backward difference:\", exp_derivative_backward)\n",
        "print(\"Central difference:\", exp_derivative_central)\n",
        "# Function: f(x) = cos(x)\n",
        "cos_derivative_forward = derivative(np.cos, x, method='forward') #for x =0.5 forward derivative is carried out in cos()\n",
        "cos_derivative_backward = derivative(np.cos, x, method='backward') #for x =0.5 backward derivative is carried out in cos()\n",
        "cos_derivative_central = derivative(np.cos, x, method='central') #for x =0.5 backward derivative is carried out in cos()\n",
        "print(\"\\nDerivative of cos(x) at x =\", x)\n",
        "print(\"Forward difference:\", cos_derivative_forward)\n",
        "print(\"Backward difference:\", cos_derivative_backward)\n",
        "print(\"Central difference:\", cos_derivative_central)\n",
        "Derivative of exp(x) at x = 0.5\n",
        "Forward difference: 1.6569924245758205\n",
        "Backward difference: 1.6405050744749294\n",
        "Central difference: 1.648748749525375\n",
        "Derivative of cos(x) at x = 0.5\n",
        "Forward difference: -0.483805424462147\n",
        "Backward difference: -0.4750296719748692\n",
        "Central difference: -0.4794175482185081"
      ],
      "metadata": {
        "id": "vFlcjdN8cmJu"
      },
      "execution_count": null,
      "outputs": []
    },
    {
      "cell_type": "markdown",
      "source": [
        "#14 Downloading the Automatic Weather Station AWS Data. Reading the .csv file using pandas library as a DataFrame.\n"
      ],
      "metadata": {
        "id": "9sAsJdplcx5a"
      }
    },
    {
      "cell_type": "code",
      "source": [
        "import pandas as pd\n",
        "# Providing the path to my uploaded imd_maitri.csv file\n",
        "csv_file_path = \"/content/bang_csv.csv\"\n",
        "# Reading the CSV file into a DataFrame\n",
        "df = pd.read_csv(csv_file_path)\n",
        "print(df)\n",
        " _id SL NO District Taluk Hobli \\\n",
        "0 1 1 Bangalore Urban Bangalore East Bidarahalli\n",
        "1 2 2 Bangalore Urban Bangalore East Krishnarajapura\n",
        "2 3 3 Bangalore Urban Bangalore East Krishnarajapura\n",
        "3 4 4 Bangalore Urban Bangalore East Krishnarajapura\n",
        "4 5 5 Bangalore Urban Bangalore East Krishnarajapura\n",
        ".. ... ... ... ... ...\n",
        "192 193 193 Bangalore Rural Hosakote Nandagudi\n",
        "193 194 194 Bangalore Rural Hosakote Sulibele\n",
        "194 195 195 Bangalore Rural Nelamangala Nelamangala\n",
        "195 196 196 Bangalore Rural Nelamangala Sompura\n",
        "196 197 197 Bangalore Rural Nelamangala Thyamagondlu\n",
        " Hobli/GP/Location Date of Commission\n",
        "0 Kadugodi 2013-07-26T00:00:00\n",
        "1 Banaswadi 2013-06-24T00:00:00\n",
        "2 Basavanapura 2013-07-16T00:00:00\n",
        "3 Benniganahalli 2013-07-16T00:00:00\n",
        "4 Dommalur 2013-06-24T00:00:00\n",
        ".. ... ...\n",
        "192 Nandagudi 2014-02-01T00:00:00\n",
        "193 Sulibele 2013-12-31T00:00:00\n",
        "194 Nelamangala 2009-06-05T00:00:00\n",
        "195 Sompura 2013-12-24T00:00:00\n",
        "196 Thyamagondlu 2013-12-24T00:00:00\n",
        "[197 rows x 7 columns]"
      ],
      "metadata": {
        "id": "LK9HXvqhcyqU"
      },
      "execution_count": null,
      "outputs": []
    },
    {
      "cell_type": "markdown",
      "source": [],
      "metadata": {
        "id": "s55AuE7uac6e"
      }
    }
  ]
}